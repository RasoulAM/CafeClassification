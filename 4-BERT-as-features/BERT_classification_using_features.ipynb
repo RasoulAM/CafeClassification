{
 "cells": [
  {
   "cell_type": "markdown",
   "metadata": {},
   "source": [
    "# Classification using BERT embeddings"
   ]
  },
  {
   "cell_type": "markdown",
   "metadata": {
    "ExecuteTime": {
     "end_time": "2019-06-30T09:39:33.597109Z",
     "start_time": "2019-06-30T09:39:33.592095Z"
    }
   },
   "source": [
    "## Loading data"
   ]
  },
  {
   "cell_type": "code",
   "execution_count": 1,
   "metadata": {
    "ExecuteTime": {
     "end_time": "2019-06-30T10:03:58.517603Z",
     "start_time": "2019-06-30T10:03:49.396841Z"
    }
   },
   "outputs": [],
   "source": [
    "import pandas as pd\n",
    "\n",
    "# The train and test data should have a column named cat1, containing the labels of the data\n",
    "# The corresponding embeddings should be in this folder\n",
    "# train_data = pd.read_csv('../data/formatted/train_data.csv')\n",
    "# test_data = pd.read_csv('../data/formatted/test_data.csv')\n",
    "\n",
    "train_data = pd.read_csv('../../Datasets/train_file_1M_cat1.csv')\n",
    "test_data = pd.read_csv('../../Datasets/test_file_1M_cat1.csv')\n",
    "\n",
    "train_data_labels = list(train_data['cat1'])\n",
    "test_data_labels = list(test_data['cat1'])"
   ]
  },
  {
   "cell_type": "code",
   "execution_count": 2,
   "metadata": {
    "ExecuteTime": {
     "end_time": "2019-06-30T10:08:42.283158Z",
     "start_time": "2019-06-30T10:04:50.827313Z"
    }
   },
   "outputs": [],
   "source": [
    "# Reading the train data embeddings\n",
    "training_data_embeddings = []\n",
    "with open('../../8-bert_service/train_vecs_untoken_1M') as vecs_file:\n",
    "    for index, line in enumerate(vecs_file):\n",
    "        training_data_embeddings.append(list(map(float, line.split())))"
   ]
  },
  {
   "cell_type": "code",
   "execution_count": 3,
   "metadata": {
    "ExecuteTime": {
     "end_time": "2019-06-30T10:21:58.510226Z",
     "start_time": "2019-06-30T10:21:04.144013Z"
    }
   },
   "outputs": [],
   "source": [
    "# Reading the test data embeddings\n",
    "test_data_embeddings = []\n",
    "with open('../../8-bert_service/test_vecs_untoken_1M') as vecs_file:\n",
    "    for index, line in enumerate(vecs_file):\n",
    "        test_data_embeddings.append(list(map(float, line.split())))"
   ]
  },
  {
   "cell_type": "markdown",
   "metadata": {},
   "source": [
    "## Logistic Regression"
   ]
  },
  {
   "cell_type": "code",
   "execution_count": null,
   "metadata": {
    "ExecuteTime": {
     "start_time": "2019-06-30T12:46:31.320Z"
    }
   },
   "outputs": [],
   "source": [
    "from sklearn.linear_model import LogisticRegression\n",
    "\n",
    "lm = LogisticRegression(solver='lbfgs',max_iter=10000, multi_class='multinomial', verbose=2)\n",
    "lm.fit(training_data_embeddings, train_data_labels)"
   ]
  },
  {
   "cell_type": "code",
   "execution_count": 11,
   "metadata": {
    "ExecuteTime": {
     "end_time": "2019-06-30T12:41:01.796038Z",
     "start_time": "2019-06-30T12:40:50.250208Z"
    }
   },
   "outputs": [
    {
     "name": "stdout",
     "output_type": "stream",
     "text": [
      "              precision    recall  f1-score   support\n",
      "\n",
      "           1       0.81      0.80      0.81     21674\n",
      "           2       0.63      0.72      0.67     28604\n",
      "          12       0.74      0.70      0.72     20714\n",
      "          38       0.72      0.65      0.68     16511\n",
      "          67       0.81      0.83      0.82     31741\n",
      "          79       0.49      0.27      0.34     11070\n",
      "         125       0.78      0.88      0.83     21342\n",
      "         143       0.96      0.97      0.97     46593\n",
      "         151       0.51      0.19      0.27       472\n",
      "         191       0.81      0.75      0.78      1279\n",
      "\n",
      "   micro avg       0.79      0.79      0.79    200000\n",
      "   macro avg       0.72      0.68      0.69    200000\n",
      "weighted avg       0.78      0.79      0.78    200000\n",
      "\n"
     ]
    }
   ],
   "source": [
    "from sklearn.metrics import classification_report\n",
    "\n",
    "prediction_labels = lm.predict(test_data_embeddings)\n",
    "print(classification_report(list(test_data_labels), list(prediction_labels)))"
   ]
  },
  {
   "cell_type": "markdown",
   "metadata": {},
   "source": [
    "## XGBoost"
   ]
  },
  {
   "cell_type": "code",
   "execution_count": null,
   "metadata": {
    "ExecuteTime": {
     "end_time": "2019-06-09T11:18:00.591516Z",
     "start_time": "2019-06-09T11:17:59.176645Z"
    }
   },
   "outputs": [],
   "source": [
    "import xgboost as xgb\n",
    "import numpy as np"
   ]
  },
  {
   "cell_type": "markdown",
   "metadata": {
    "cell_style": "center"
   },
   "source": [
    "### Training an XGBoost Classifier using BERT embeddings"
   ]
  },
  {
   "cell_type": "code",
   "execution_count": null,
   "metadata": {
    "ExecuteTime": {
     "end_time": "2019-06-09T11:18:13.488168Z",
     "start_time": "2019-06-09T11:18:13.480793Z"
    }
   },
   "outputs": [],
   "source": [
    "clf = xgb.XGBClassifier(\n",
    "    max_depth=7,\n",
    "    n_estimators=100,\n",
    "    objective='multi:softmax',\n",
    "    n_jobs=30,\n",
    "    silent=False,\n",
    "    num_class=10\n",
    ")"
   ]
  },
  {
   "cell_type": "code",
   "execution_count": null,
   "metadata": {
    "ExecuteTime": {
     "end_time": "2019-06-09T11:26:32.570259Z",
     "start_time": "2019-06-09T11:23:49.184664Z"
    },
    "code_folding": []
   },
   "outputs": [],
   "source": [
    "clf.fit(np.array(training_data_embeddings), np.array(train_data_labels))"
   ]
  },
  {
   "cell_type": "code",
   "execution_count": null,
   "metadata": {},
   "outputs": [],
   "source": [
    "clf.save_model('xgb_model')"
   ]
  },
  {
   "cell_type": "markdown",
   "metadata": {},
   "source": [
    "### Testing the embeddings"
   ]
  },
  {
   "cell_type": "code",
   "execution_count": null,
   "metadata": {
    "ExecuteTime": {
     "end_time": "2019-06-09T11:27:36.945440Z",
     "start_time": "2019-06-09T11:27:30.371756Z"
    }
   },
   "outputs": [],
   "source": [
    "# Predicting\n",
    "prediction_labels = clf.predict(test_data_embeddings)"
   ]
  },
  {
   "cell_type": "code",
   "execution_count": null,
   "metadata": {
    "ExecuteTime": {
     "end_time": "2019-06-30T09:11:45.474173Z",
     "start_time": "2019-06-30T09:11:45.007096Z"
    }
   },
   "outputs": [],
   "source": [
    "from sklearn.metrics import classification_report\n",
    "classification_report(test_data_labels, list(prediction_labels))"
   ]
  }
 ],
 "metadata": {
  "hide_input": false,
  "kernelspec": {
   "display_name": "Python 3",
   "language": "python",
   "name": "python3"
  },
  "language_info": {
   "codemirror_mode": {
    "name": "ipython",
    "version": 3
   },
   "file_extension": ".py",
   "mimetype": "text/x-python",
   "name": "python",
   "nbconvert_exporter": "python",
   "pygments_lexer": "ipython3",
   "version": "3.6.7"
  },
  "latex_envs": {
   "LaTeX_envs_menu_present": true,
   "autoclose": false,
   "autocomplete": true,
   "bibliofile": "biblio.bib",
   "cite_by": "apalike",
   "current_citInitial": 1,
   "eqLabelWithNumbers": true,
   "eqNumInitial": 1,
   "hotkeys": {
    "equation": "Ctrl-E",
    "itemize": "Ctrl-I"
   },
   "labels_anchors": false,
   "latex_user_defs": false,
   "report_style_numbering": false,
   "user_envs_cfg": false
  },
  "toc": {
   "base_numbering": 1,
   "nav_menu": {},
   "number_sections": true,
   "sideBar": true,
   "skip_h1_title": false,
   "title_cell": "Table of Contents",
   "title_sidebar": "Contents",
   "toc_cell": false,
   "toc_position": {},
   "toc_section_display": true,
   "toc_window_display": false
  },
  "varInspector": {
   "cols": {
    "lenName": 16,
    "lenType": 16,
    "lenVar": 40
   },
   "kernels_config": {
    "python": {
     "delete_cmd_postfix": "",
     "delete_cmd_prefix": "del ",
     "library": "var_list.py",
     "varRefreshCmd": "print(var_dic_list())"
    },
    "r": {
     "delete_cmd_postfix": ") ",
     "delete_cmd_prefix": "rm(",
     "library": "var_list.r",
     "varRefreshCmd": "cat(var_dic_list()) "
    }
   },
   "types_to_exclude": [
    "module",
    "function",
    "builtin_function_or_method",
    "instance",
    "_Feature"
   ],
   "window_display": false
  }
 },
 "nbformat": 4,
 "nbformat_minor": 2
}
