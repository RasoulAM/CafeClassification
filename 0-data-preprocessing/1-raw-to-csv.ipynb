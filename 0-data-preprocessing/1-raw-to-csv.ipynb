{
 "cells": [
  {
   "cell_type": "markdown",
   "metadata": {},
   "source": [
    "## Convert the raw format to two column csv\n",
    "- first columns: cat1 (only the number)\n",
    "- second column: text (title + \" \" + description)"
   ]
  },
  {
   "cell_type": "code",
   "execution_count": 2,
   "metadata": {
    "ExecuteTime": {
     "end_time": "2019-06-16T10:14:16.349503Z",
     "start_time": "2019-06-16T10:13:05.536613Z"
    }
   },
   "outputs": [
    {
     "data": {
      "application/vnd.jupyter.widget-view+json": {
       "model_id": "bfb14032a46c4c72936315b6442ad34e",
       "version_major": 2,
       "version_minor": 0
      },
      "text/plain": [
       "HBox(children=(IntProgress(value=1, bar_style='info', max=1), HTML(value='')))"
      ]
     },
     "metadata": {},
     "output_type": "display_data"
    },
    {
     "name": "stdout",
     "output_type": "stream",
     "text": [
      "0 part-00000-25226d19-5f49-43f9-978b-215609c0320e-c000.json\n",
      "\n"
     ]
    }
   ],
   "source": [
    "from data_helper import clean_original_data_cat1\n",
    "\n",
    "clean_original_data_cat1(result_file=\"../data/formatted/formatted_cat1_text.csv\")"
   ]
  },
  {
   "cell_type": "markdown",
   "metadata": {},
   "source": [
    "## Convert the raw format to 4 column csv\n",
    "- first column: cat1 (only the number)\n",
    "- second column: cat2 (only the number)\n",
    "- third column: cat3 (only the number)\n",
    "- second column: text (title + \" \" + description)"
   ]
  },
  {
   "cell_type": "code",
   "execution_count": 3,
   "metadata": {
    "ExecuteTime": {
     "end_time": "2019-06-16T10:15:25.993563Z",
     "start_time": "2019-06-16T10:14:16.369053Z"
    }
   },
   "outputs": [
    {
     "data": {
      "application/vnd.jupyter.widget-view+json": {
       "model_id": "be6bfda3db2f4071a3393f825b609652",
       "version_major": 2,
       "version_minor": 0
      },
      "text/plain": [
       "HBox(children=(IntProgress(value=1, bar_style='info', max=1), HTML(value='')))"
      ]
     },
     "metadata": {},
     "output_type": "display_data"
    },
    {
     "name": "stdout",
     "output_type": "stream",
     "text": [
      "0 part-00000-25226d19-5f49-43f9-978b-215609c0320e-c000.json\n",
      "\n"
     ]
    }
   ],
   "source": [
    "from data_helper import clean_original_data_cats\n",
    "\n",
    "clean_original_data_cats(result_file=\"../data/formatted/formatted_cats_text.csv\")"
   ]
  },
  {
   "cell_type": "markdown",
   "metadata": {},
   "source": [
    "## Script for taking part of the formatted data"
   ]
  },
  {
   "cell_type": "markdown",
   "metadata": {
    "ExecuteTime": {
     "end_time": "2019-06-16T08:10:41.303080Z",
     "start_time": "2019-06-16T08:10:41.297521Z"
    }
   },
   "source": [
    "1 M train data <br>\n",
    "0.2 M test data"
   ]
  },
  {
   "cell_type": "code",
   "execution_count": 4,
   "metadata": {
    "ExecuteTime": {
     "end_time": "2019-06-16T10:17:46.753445Z",
     "start_time": "2019-06-16T10:17:45.921059Z"
    }
   },
   "outputs": [],
   "source": [
    "! head -1200000 ../data/formatted/formatted_cat1_text.csv > temp\n",
    "! head -1000000 temp > ../data/formatted/formatted_train_cat1_text_1M.csv\n",
    "! tail -200000 temp > ../data/formatted/formatted_test_cat1_text_1M.csv\n",
    "! rm temp"
   ]
  },
  {
   "cell_type": "markdown",
   "metadata": {
    "ExecuteTime": {
     "end_time": "2019-06-16T08:11:30.186887Z",
     "start_time": "2019-06-16T08:11:30.181274Z"
    }
   },
   "source": [
    "10 M train data <br>\n",
    "2 M test data"
   ]
  },
  {
   "cell_type": "code",
   "execution_count": 5,
   "metadata": {
    "ExecuteTime": {
     "end_time": "2019-06-16T10:17:58.536456Z",
     "start_time": "2019-06-16T10:17:57.725397Z"
    }
   },
   "outputs": [],
   "source": [
    "! head -12000000 ../data/formatted/formatted_cat1_text.csv > temp\n",
    "! head -10000000 temp > ../data/formatted/formatted_train_cat1_text_10M.csv\n",
    "! tail -2000000 temp > ../data/formatted/formatted_test_cat1_text_10M.csv\n",
    "! rm temp"
   ]
  }
 ],
 "metadata": {
  "hide_input": false,
  "kernelspec": {
   "display_name": "Python 3",
   "language": "python",
   "name": "python3"
  },
  "language_info": {
   "codemirror_mode": {
    "name": "ipython",
    "version": 3
   },
   "file_extension": ".py",
   "mimetype": "text/x-python",
   "name": "python",
   "nbconvert_exporter": "python",
   "pygments_lexer": "ipython3",
   "version": "3.6.7"
  },
  "latex_envs": {
   "LaTeX_envs_menu_present": true,
   "autoclose": false,
   "autocomplete": true,
   "bibliofile": "biblio.bib",
   "cite_by": "apalike",
   "current_citInitial": 1,
   "eqLabelWithNumbers": true,
   "eqNumInitial": 1,
   "hotkeys": {
    "equation": "Ctrl-E",
    "itemize": "Ctrl-I"
   },
   "labels_anchors": false,
   "latex_user_defs": false,
   "report_style_numbering": false,
   "user_envs_cfg": false
  },
  "toc": {
   "base_numbering": 1,
   "nav_menu": {},
   "number_sections": true,
   "sideBar": true,
   "skip_h1_title": false,
   "title_cell": "Table of Contents",
   "title_sidebar": "Contents",
   "toc_cell": false,
   "toc_position": {},
   "toc_section_display": true,
   "toc_window_display": false
  },
  "varInspector": {
   "cols": {
    "lenName": 16,
    "lenType": 16,
    "lenVar": 40
   },
   "kernels_config": {
    "python": {
     "delete_cmd_postfix": "",
     "delete_cmd_prefix": "del ",
     "library": "var_list.py",
     "varRefreshCmd": "print(var_dic_list())"
    },
    "r": {
     "delete_cmd_postfix": ") ",
     "delete_cmd_prefix": "rm(",
     "library": "var_list.r",
     "varRefreshCmd": "cat(var_dic_list()) "
    }
   },
   "types_to_exclude": [
    "module",
    "function",
    "builtin_function_or_method",
    "instance",
    "_Feature"
   ],
   "window_display": false
  }
 },
 "nbformat": 4,
 "nbformat_minor": 2
}
