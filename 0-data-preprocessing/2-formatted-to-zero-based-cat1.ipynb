{
 "cells": [
  {
   "cell_type": "code",
   "execution_count": 1,
   "metadata": {
    "ExecuteTime": {
     "end_time": "2019-06-16T10:18:42.352118Z",
     "start_time": "2019-06-16T10:18:40.837902Z"
    }
   },
   "outputs": [],
   "source": [
    "#import the helper file from the higher directory\n",
    "import sys\n",
    "sys.path.append(\"../../\")\n",
    "from helper import convert_label\n",
    "import pandas as pd"
   ]
  },
  {
   "cell_type": "markdown",
   "metadata": {},
   "source": [
    "Formatted and converted labels for 1M cat1 dataset"
   ]
  },
  {
   "cell_type": "code",
   "execution_count": 2,
   "metadata": {
    "ExecuteTime": {
     "end_time": "2019-06-16T10:18:48.501387Z",
     "start_time": "2019-06-16T10:18:46.275785Z"
    }
   },
   "outputs": [],
   "source": [
    "file = pd.read_csv(\"../data/formatted/formatted_train_cat1_text_1M.csv\", names=['cat1', 'text'])\n",
    "file['cat1'] = file['cat1'].apply(convert_label)\n",
    "file.to_csv(\"../data/formatted/formatted_train_cat1_text_1M_converted.csv\", index=False)\n",
    "\n",
    "file = pd.read_csv(\"../data/formatted/formatted_test_cat1_text_1M.csv\", names=['cat1', 'text'])\n",
    "file['cat1'] = file['cat1'].apply(convert_label)\n",
    "file.to_csv(\"../data/formatted/formatted_test_cat1_text_1M_converted.csv\", index=False)"
   ]
  },
  {
   "cell_type": "markdown",
   "metadata": {
    "ExecuteTime": {
     "end_time": "2019-06-16T08:24:25.403251Z",
     "start_time": "2019-06-16T08:24:25.397329Z"
    }
   },
   "source": [
    "Formatted and converted labels for 10M cat1 dataset"
   ]
  },
  {
   "cell_type": "code",
   "execution_count": 4,
   "metadata": {
    "ExecuteTime": {
     "end_time": "2019-06-16T10:29:35.584424Z",
     "start_time": "2019-06-16T10:29:33.186376Z"
    }
   },
   "outputs": [],
   "source": [
    "file = pd.read_csv(\"../data/formatted/formatted_train_cat1_text_10M.csv\", names=['cat1', 'text'])\n",
    "file['cat1'] = file['cat1'].apply(convert_label)\n",
    "file.to_csv(\"../data/formatted/formatted_train_cat1_text_1M_converted.csv\", index=False)\n",
    "\n",
    "file = pd.read_csv(\"../data/formatted/formatted_test_cat1_text_10M.csv\", names=['cat1', 'text'])\n",
    "file['cat1'] = file['cat1'].apply(convert_label)\n",
    "file.to_csv(\"../data/formatted/formatted_test_cat1_text_1M_converted.csv\", index=False)"
   ]
  }
 ],
 "metadata": {
  "hide_input": false,
  "kernelspec": {
   "display_name": "Python 3",
   "language": "python",
   "name": "python3"
  },
  "language_info": {
   "codemirror_mode": {
    "name": "ipython",
    "version": 3
   },
   "file_extension": ".py",
   "mimetype": "text/x-python",
   "name": "python",
   "nbconvert_exporter": "python",
   "pygments_lexer": "ipython3",
   "version": "3.6.7"
  },
  "latex_envs": {
   "LaTeX_envs_menu_present": true,
   "autoclose": false,
   "autocomplete": true,
   "bibliofile": "biblio.bib",
   "cite_by": "apalike",
   "current_citInitial": 1,
   "eqLabelWithNumbers": true,
   "eqNumInitial": 1,
   "hotkeys": {
    "equation": "Ctrl-E",
    "itemize": "Ctrl-I"
   },
   "labels_anchors": false,
   "latex_user_defs": false,
   "report_style_numbering": false,
   "user_envs_cfg": false
  },
  "toc": {
   "base_numbering": 1,
   "nav_menu": {},
   "number_sections": true,
   "sideBar": true,
   "skip_h1_title": false,
   "title_cell": "Table of Contents",
   "title_sidebar": "Contents",
   "toc_cell": false,
   "toc_position": {},
   "toc_section_display": true,
   "toc_window_display": false
  },
  "varInspector": {
   "cols": {
    "lenName": 16,
    "lenType": 16,
    "lenVar": 40
   },
   "kernels_config": {
    "python": {
     "delete_cmd_postfix": "",
     "delete_cmd_prefix": "del ",
     "library": "var_list.py",
     "varRefreshCmd": "print(var_dic_list())"
    },
    "r": {
     "delete_cmd_postfix": ") ",
     "delete_cmd_prefix": "rm(",
     "library": "var_list.r",
     "varRefreshCmd": "cat(var_dic_list()) "
    }
   },
   "types_to_exclude": [
    "module",
    "function",
    "builtin_function_or_method",
    "instance",
    "_Feature"
   ],
   "window_display": false
  }
 },
 "nbformat": 4,
 "nbformat_minor": 2
}
