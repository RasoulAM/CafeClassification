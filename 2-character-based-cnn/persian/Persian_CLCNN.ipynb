{
 "cells": [
  {
   "cell_type": "code",
   "execution_count": null,
   "metadata": {
    "ExecuteTime": {
     "end_time": "2019-06-16T12:45:19.309543Z",
     "start_time": "2019-06-16T12:45:17.715593Z"
    }
   },
   "outputs": [],
   "source": [
    "import sys\n",
    "# Add the ptdraft folder path to the sys.path list\n",
    "sys.path.append('../')\n",
    "\n",
    "from train import run, set_arguments\n",
    "\n",
    "parser = set_arguments()\n",
    "args = parser.parse_args([\n",
    "    '--data_path', '../../data/formatted/formatted_train_cat1_text_1M_converted.csv',\n",
    "    '--label_column', 'cat1',\n",
    "    '--text_column', 'text',\n",
    "    '--max_rows', '1000000',\n",
    "    '--encoding', 'utf-8',\n",
    "    '--alphabet', \"\"\"ضصثقفغعهخحجچشسیبلاتنمکگظطزرذدپوآ۱۲۳۴۵۶۷۸۹۰0123456789,;.!?:'\\\"/\\\\|_@#$%^&*~`+-=<>()[]{}\"\"\",\n",
    "    '--number_of_characters', '84',\n",
    "    '--extra_characters', '',\n",
    "    '--epochs', '2',\n",
    "    '--config', '../config.json',\n",
    "    '--number_of_classes', '10',\n",
    "])\n"
   ]
  },
  {
   "cell_type": "code",
   "execution_count": null,
   "metadata": {
    "ExecuteTime": {
     "start_time": "2019-06-16T12:45:19.900Z"
    },
    "scrolled": true
   },
   "outputs": [],
   "source": [
    "from time import time\n",
    "start_time = time()\n",
    "run(args)\n",
    "with open(\"clcnn_time_train.txt\", \"w\") as file:\n",
    "    file.write(str(time() - start_time))"
   ]
  },
  {
   "cell_type": "code",
   "execution_count": null,
   "metadata": {
    "ExecuteTime": {
     "end_time": "2019-06-16T10:48:13.829815Z",
     "start_time": "2019-06-16T10:48:13.651026Z"
    }
   },
   "outputs": [],
   "source": [
    "#Testing the thingee\n",
    "import pandas as pd\n",
    "test_data = pd.read_csv(\"../../data/formatted/formatted_test_cat1_text_1M_converted.csv\")\n",
    "model = './models/char_cnn_epoch_None_1_0.01_loss_0.9538_acc_0.6496.pth' # model name here!!"
   ]
  },
  {
   "cell_type": "code",
   "execution_count": null,
   "metadata": {
    "ExecuteTime": {
     "end_time": "2019-06-16T11:25:19.376325Z",
     "start_time": "2019-06-16T10:55:07.249339Z"
    }
   },
   "outputs": [],
   "source": [
    "import numpy as np\n",
    "from sklearn.metrics import classification_report\n",
    "from time import time\n",
    "import sys\n",
    "# Add the ptdraft folder path to the sys.path list\n",
    "sys.path.append('../')\n",
    "\n",
    "from predict import predict, set_arguments\n",
    "\n",
    "sys.path.append('../../')\n",
    "from helper import unconvert_label_cat1\n",
    "\n",
    "initial_args = [\n",
    "    '--alphabet', \"\"\"ضصثقفغعهخحجچشسیبلاتنمکگظطزرذدپوآ۱۲۳۴۵۶۷۸۹۰0123456789,;.!?:'\\\"/\\\\|_@#$%^&*~`+-=<>()[]{}\"\"\",\n",
    "    '--number_of_characters', '84',\n",
    "    '--extra_characters', '',\n",
    "#     '--config', '../config.json',\n",
    "]\n",
    "parser = set_arguments()\n",
    "total = 0\n",
    "y_real = []\n",
    "y_pred = []\n",
    "total_time = 0\n",
    "for index, row in test_data.iterrows():\n",
    "#     print(index)\n",
    "    text = row[\"text\"]\n",
    "    pred = row[\"cat1\"]\n",
    "    args = parser.parse_args(initial_args + ['--model', model, '--text', text])\n",
    "    start_time = time()\n",
    "    res = predict(args)\n",
    "    infer = unconvert_label_cat1(np.argmax(list(res[0])))\n",
    "    total_time += time() - start_time\n",
    "#     print(list(res[0]))\n",
    "    y_real.append(unconvert_label_cat1(pred))\n",
    "    y_pred.append(infer)\n",
    "    total += 1\n",
    "    \n",
    "    if index > 0 and index % 1000 == 0:\n",
    "        print(\"----------------------------------\")\n",
    "        print(classification_report(y_real, y_pred))\n",
    "        print(\"Average Infer Time: \", total_time / total)"
   ]
  },
  {
   "cell_type": "code",
   "execution_count": null,
   "metadata": {
    "ExecuteTime": {
     "end_time": "2019-06-16T11:25:45.797517Z",
     "start_time": "2019-06-16T11:25:45.735950Z"
    }
   },
   "outputs": [],
   "source": [
    "results = pd.DataFrame([[y_real[i], y_pred[i]] for i in range(len(y_pred))], columns=[\"y_real\", \"y_pred\"])\n",
    "results.to_csv(open(\"results_clcnn_1M.csv\", \"w\"), index=False)"
   ]
  },
  {
   "cell_type": "code",
   "execution_count": null,
   "metadata": {
    "ExecuteTime": {
     "end_time": "2019-06-16T11:25:51.203666Z",
     "start_time": "2019-06-16T11:25:51.126826Z"
    }
   },
   "outputs": [],
   "source": [
    "from sklearn.metrics import classification_report, confusion_matrix\n",
    "print(classification_report(y_real, y_pred))"
   ]
  },
  {
   "cell_type": "code",
   "execution_count": null,
   "metadata": {
    "ExecuteTime": {
     "end_time": "2019-06-16T11:25:56.389880Z",
     "start_time": "2019-06-16T11:25:54.703164Z"
    }
   },
   "outputs": [],
   "source": [
    "import matplotlib.pyplot as plt\n",
    "from sklearn.utils.multiclass import unique_labels\n",
    "from helper import get_labels, plot_confusion_matrix\n",
    "\n",
    "\n",
    "np.set_printoptions(precision=2)\n",
    "unique_labels(y_real, y_pred)\n",
    "plot_confusion_matrix(y_real, y_pred, classes=get_labels(), normalize=True)\n",
    "# plt.show()"
   ]
  }
 ],
 "metadata": {
  "hide_input": false,
  "kernelspec": {
   "display_name": "clcnn",
   "language": "python",
   "name": "clcnn"
  },
  "language_info": {
   "codemirror_mode": {
    "name": "ipython",
    "version": 3
   },
   "file_extension": ".py",
   "mimetype": "text/x-python",
   "name": "python",
   "nbconvert_exporter": "python",
   "pygments_lexer": "ipython3",
   "version": "3.6.7"
  },
  "latex_envs": {
   "LaTeX_envs_menu_present": true,
   "autoclose": false,
   "autocomplete": true,
   "bibliofile": "biblio.bib",
   "cite_by": "apalike",
   "current_citInitial": 1,
   "eqLabelWithNumbers": true,
   "eqNumInitial": 1,
   "hotkeys": {
    "equation": "Ctrl-E",
    "itemize": "Ctrl-I"
   },
   "labels_anchors": false,
   "latex_user_defs": false,
   "report_style_numbering": false,
   "user_envs_cfg": false
  },
  "toc": {
   "base_numbering": 1,
   "nav_menu": {},
   "number_sections": true,
   "sideBar": true,
   "skip_h1_title": false,
   "title_cell": "Table of Contents",
   "title_sidebar": "Contents",
   "toc_cell": false,
   "toc_position": {},
   "toc_section_display": true,
   "toc_window_display": false
  },
  "varInspector": {
   "cols": {
    "lenName": 16,
    "lenType": 16,
    "lenVar": 40
   },
   "kernels_config": {
    "python": {
     "delete_cmd_postfix": "",
     "delete_cmd_prefix": "del ",
     "library": "var_list.py",
     "varRefreshCmd": "print(var_dic_list())"
    },
    "r": {
     "delete_cmd_postfix": ") ",
     "delete_cmd_prefix": "rm(",
     "library": "var_list.r",
     "varRefreshCmd": "cat(var_dic_list()) "
    }
   },
   "types_to_exclude": [
    "module",
    "function",
    "builtin_function_or_method",
    "instance",
    "_Feature"
   ],
   "window_display": false
  }
 },
 "nbformat": 4,
 "nbformat_minor": 2
}
