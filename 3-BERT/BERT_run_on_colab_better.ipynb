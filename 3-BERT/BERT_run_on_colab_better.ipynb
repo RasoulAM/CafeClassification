{
 "cells": [
  {
   "cell_type": "markdown",
   "metadata": {},
   "source": [
    "# This notebook is meant to be run on [Google Colab](https://colab.research.google.com)\n",
    "\n",
    "- Your data should be in your Google Drive\n",
    "- The data should be in csv format, first column the label, second column the text (no header)"
   ]
  },
  {
   "cell_type": "code",
   "execution_count": 19,
   "metadata": {
    "ExecuteTime": {
     "end_time": "2019-06-17T07:01:53.168779Z",
     "start_time": "2019-06-17T07:01:53.150571Z"
    }
   },
   "outputs": [
    {
     "data": {
      "text/html": [
       "<div>\n",
       "<style scoped>\n",
       "    .dataframe tbody tr th:only-of-type {\n",
       "        vertical-align: middle;\n",
       "    }\n",
       "\n",
       "    .dataframe tbody tr th {\n",
       "        vertical-align: top;\n",
       "    }\n",
       "\n",
       "    .dataframe thead th {\n",
       "        text-align: right;\n",
       "    }\n",
       "</style>\n",
       "<table border=\"1\" class=\"dataframe\">\n",
       "  <thead>\n",
       "    <tr style=\"text-align: right;\">\n",
       "      <th></th>\n",
       "      <th>cat1</th>\n",
       "      <th>text</th>\n",
       "    </tr>\n",
       "  </thead>\n",
       "  <tbody>\n",
       "    <tr>\n",
       "      <th>0</th>\n",
       "      <td>143</td>\n",
       "      <td>عنوان ازمایشی متن ازمایشی</td>\n",
       "    </tr>\n",
       "  </tbody>\n",
       "</table>\n",
       "</div>"
      ],
      "text/plain": [
       "   cat1                       text\n",
       "0   143  عنوان ازمایشی متن ازمایشی"
      ]
     },
     "execution_count": 19,
     "metadata": {},
     "output_type": "execute_result"
    }
   ],
   "source": [
    "import pandas as pd\n",
    "pd.read_csv('../../data/formatted/formatted_cat1_text_sample.csv', names=['label', 'text'])"
   ]
  },
  {
   "cell_type": "code",
   "execution_count": null,
   "metadata": {
    "ExecuteTime": {
     "end_time": "2019-06-16T13:06:56.406449Z",
     "start_time": "2019-06-16T13:06:53.203410Z"
    },
    "colab": {
     "base_uri": "https://localhost:8080/",
     "height": 136
    },
    "colab_type": "code",
    "id": "GnSnPpxyKtZt",
    "outputId": "167448d2-ab0e-4127-d3c0-06abad5c5843"
   },
   "outputs": [],
   "source": [
    "! pip install -U -q PyDrive\n",
    "! git clone https://github.com/RasoulAM/bert_custom.git"
   ]
  },
  {
   "cell_type": "code",
   "execution_count": 7,
   "metadata": {
    "ExecuteTime": {
     "end_time": "2019-06-17T05:52:23.842993Z",
     "start_time": "2019-06-17T05:52:23.835106Z"
    },
    "colab": {},
    "colab_type": "code",
    "id": "c6IapvDaLOUH"
   },
   "outputs": [],
   "source": [
    "import os\n",
    "os.chdir(\"bert_custom\")\n",
    "os.environ['BERT_BASE_DIR'] = '/content/bert_custom/multi_cased_L-12_H-768_A-12'\n",
    "os.environ['DATA_DIR'] = '/content/bert_custom/persian'\n",
    "os.environ['TRAIN_DATA_PATH'] = 'path/to/train/data/in/drive.csv' # TODO path of your data in google drive\n",
    "os.environ['TEST_DATA_PATH'] = 'path/to/test/data/in/drive.csv' # TODO path of your data in google drive\n",
    "os.environ['OUTPUT_DIR'] = 'path/to/output/dir' # TODO path for the output in google drive"
   ]
  },
  {
   "cell_type": "code",
   "execution_count": null,
   "metadata": {
    "ExecuteTime": {
     "end_time": "2019-06-16T13:11:05.342186Z",
     "start_time": "2019-06-16T13:11:02.293052Z"
    },
    "colab": {},
    "colab_type": "code",
    "id": "EaBpda59sOpS"
   },
   "outputs": [],
   "source": [
    "from pydrive.auth import GoogleAuth\n",
    "from pydrive.drive import GoogleDrive\n",
    "from google.colab import auth\n",
    "from oauth2client.client import GoogleCredentials\n",
    "# Authenticate and create the PyDrive client.\n",
    "auth.authenticate_user()\n",
    "gauth = GoogleAuth()\n",
    "gauth.credentials = GoogleCredentials.get_application_default()\n",
    "drive = GoogleDrive(gauth)"
   ]
  },
  {
   "cell_type": "code",
   "execution_count": null,
   "metadata": {
    "colab": {
     "base_uri": "https://localhost:8080/",
     "height": 122
    },
    "colab_type": "code",
    "id": "aQaLkBE8sX8I",
    "outputId": "591f38ea-a392-4a95-b686-f17a74a4b06b"
   },
   "outputs": [],
   "source": [
    "from google.colab import drive as myDrive\n",
    "myDrive.mount('/content/gdrive')"
   ]
  },
  {
   "cell_type": "code",
   "execution_count": null,
   "metadata": {
    "colab": {
     "base_uri": "https://localhost:8080/",
     "height": 136
    },
    "colab_type": "code",
    "id": "IDVcQ45_sdDa",
    "outputId": "0ab50969-0eca-43a7-ed15-63c0b853b631"
   },
   "outputs": [],
   "source": [
    "! git fetch cleanup\n",
    "! git checkout cleanup\n",
    "! mkdir persian\n",
    "! wget https://storage.googleapis.com/bert_models/2018_11_23/multi_cased_L-12_H-768_A-12.zip\n",
    "! unzip multi_cased_L-12_H-768_A-12.zip\n",
    "\n",
    "# Copy all the data\n",
    "! cp ../gdrive/My\\ Drive/$TRAIN_DATA_PATH persian/train_file.csv\n",
    "! cp ../gdrive/My\\ Drive/$TRAIN_DATA_PATH persian/test_file.csv\n",
    "\n",
    "# Copy part of the data\n",
    "! head -1000 /content/gdrive/My\\ Drive/$TRAIN_DATA_PATH > persian/train_file.csv\n",
    "! head -200 /content/gdrive/My\\ Drive/$TEST_DATA_PATH > persian/test_file.csv"
   ]
  },
  {
   "cell_type": "code",
   "execution_count": null,
   "metadata": {
    "colab": {
     "base_uri": "https://localhost:8080/",
     "height": 551206
    },
    "colab_type": "code",
    "id": "2zC2QtfPRNVp",
    "outputId": "227154d7-6d86-41b3-aa41-fc63023e00a3"
   },
   "outputs": [],
   "source": [
    "from time import time\n",
    "start_time = time()\n",
    "\n",
    "! python run_classifier.py \\\n",
    "  --task_name=CLAS \\\n",
    "  --do_train=true \\\n",
    "  --do_eval=true \\\n",
    "  --do_predict=false \\\\\n",
    "  --data_dir=$DATA_DIR \\\n",
    "  --vocab_file=$BERT_BASE_DIR/vocab.txt \\\n",
    "  --bert_config_file=$BERT_BASE_DIR/bert_config.json \\\n",
    "  --init_checkpoint=$BERT_BASE_DIR/bert_model.ckpt \\\n",
    "  --max_seq_length=128 \\\n",
    "  --train_batch_size=32 \\\n",
    "  --learning_rate=5e-5 \\\n",
    "  --num_train_epochs=2 \\\n",
    "  --output_dir=/content/gdrive/My\\ Drive/$OUTPUT_DIR \\\n",
    "  --do_lower_case=False \\\n",
    "  --save_checkpoints_steps=5000 \\\n",
    "  --num_classes=10 \\\n",
    "  --classes=1,2,67,79,12,143,38,125,151,191\n",
    "\n",
    "with open(\"/content/gdrive/My Drive/{}/time_eval.txt\".format(os.environ['OUTPUT_DIR']), \"w\") as time_file:\n",
    "  time_file.write(str(time() - start_time))"
   ]
  }
 ],
 "metadata": {
  "accelerator": "GPU",
  "colab": {
   "collapsed_sections": [],
   "name": "BERT test run",
   "provenance": [],
   "version": "0.3.2"
  },
  "hide_input": false,
  "kernelspec": {
   "display_name": "Python 3",
   "language": "python",
   "name": "python3"
  },
  "language_info": {
   "codemirror_mode": {
    "name": "ipython",
    "version": 3
   },
   "file_extension": ".py",
   "mimetype": "text/x-python",
   "name": "python",
   "nbconvert_exporter": "python",
   "pygments_lexer": "ipython3",
   "version": "3.6.7"
  },
  "latex_envs": {
   "LaTeX_envs_menu_present": true,
   "autoclose": false,
   "autocomplete": true,
   "bibliofile": "biblio.bib",
   "cite_by": "apalike",
   "current_citInitial": 1,
   "eqLabelWithNumbers": true,
   "eqNumInitial": 1,
   "hotkeys": {
    "equation": "Ctrl-E",
    "itemize": "Ctrl-I"
   },
   "labels_anchors": false,
   "latex_user_defs": false,
   "report_style_numbering": false,
   "user_envs_cfg": false
  },
  "toc": {
   "base_numbering": 1,
   "nav_menu": {},
   "number_sections": true,
   "sideBar": true,
   "skip_h1_title": false,
   "title_cell": "Table of Contents",
   "title_sidebar": "Contents",
   "toc_cell": false,
   "toc_position": {},
   "toc_section_display": true,
   "toc_window_display": false
  },
  "varInspector": {
   "cols": {
    "lenName": 16,
    "lenType": 16,
    "lenVar": 40
   },
   "kernels_config": {
    "python": {
     "delete_cmd_postfix": "",
     "delete_cmd_prefix": "del ",
     "library": "var_list.py",
     "varRefreshCmd": "print(var_dic_list())"
    },
    "r": {
     "delete_cmd_postfix": ") ",
     "delete_cmd_prefix": "rm(",
     "library": "var_list.r",
     "varRefreshCmd": "cat(var_dic_list()) "
    }
   },
   "types_to_exclude": [
    "module",
    "function",
    "builtin_function_or_method",
    "instance",
    "_Feature"
   ],
   "window_display": false
  }
 },
 "nbformat": 4,
 "nbformat_minor": 1
}
